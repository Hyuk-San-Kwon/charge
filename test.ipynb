{
 "cells": [
  {
   "cell_type": "code",
   "execution_count": 5,
   "metadata": {},
   "outputs": [],
   "source": [
    "import easyocr\n"
   ]
  },
  {
   "cell_type": "code",
   "execution_count": 6,
   "metadata": {},
   "outputs": [
    {
     "name": "stderr",
     "output_type": "stream",
     "text": [
      "Using CPU. Note: This module is much faster with a GPU.\n"
     ]
    }
   ],
   "source": [
    "reader = easyocr.Reader(['en','ko'], gpu=False)  # this needs to run only once to load the model into memory\n",
    "result = reader.readtext('번호판.jpeg')"
   ]
  },
  {
   "cell_type": "code",
   "execution_count": 7,
   "metadata": {},
   "outputs": [
    {
     "name": "stdout",
     "output_type": "stream",
     "text": [
      "52주 3108\n",
      "[([[44, 14], [378, 14], [378, 92], [44, 92]], '52주 3108', 0.9685774474625615), ([[133, 101], [209, 101], [209, 115], [133, 115]], '9 @ #rnit 04 #ris', 0.06330565411489848), ([[216, 102], [258, 102], [258, 110], [216, 110]], '@VTaa VeW', 0.04076710390713939), ([[259, 101], [285, 101], [285, 115], [259, 115]], 'DU', 0.16213838307011677)]\n"
     ]
    }
   ],
   "source": [
    "print(result[0][1])\n",
    "print(result)"
   ]
  },
  {
   "cell_type": "code",
   "execution_count": 8,
   "metadata": {},
   "outputs": [],
   "source": [
    "\n",
    "from domain.user.user_crud import create_user, get_existing_user\n",
    "from domain.user.user_schema import UserCreate\n",
    "from sqlalchemy.orm import Session\n",
    "from database import get_db\n",
    "from fastapi import Depends\n",
    "from database import SessionLocal\n",
    "from models import User"
   ]
  },
  {
   "cell_type": "code",
   "execution_count": 9,
   "metadata": {},
   "outputs": [],
   "source": [
    "temp_user = UserCreate\n",
    "temp_user.building = '101동'\n",
    "temp_user.unit = '1404호'\n",
    "temp_user.car_number = '52주 3018'\n",
    "temp_user.elec_car = 1"
   ]
  },
  {
   "cell_type": "code",
   "execution_count": 10,
   "metadata": {},
   "outputs": [],
   "source": [
    "db = SessionLocal()"
   ]
  },
  {
   "cell_type": "code",
   "execution_count": 11,
   "metadata": {},
   "outputs": [
    {
     "data": {
      "text/plain": [
       "101"
      ]
     },
     "execution_count": 11,
     "metadata": {},
     "output_type": "execute_result"
    }
   ],
   "source": [
    "db.query(User).all()[0].building"
   ]
  },
  {
   "cell_type": "code",
   "execution_count": 12,
   "metadata": {},
   "outputs": [],
   "source": [
    "temp = UserCreate"
   ]
  },
  {
   "cell_type": "code",
   "execution_count": 13,
   "metadata": {},
   "outputs": [],
   "source": [
    "temp.car_number = '52가 3108'"
   ]
  },
  {
   "cell_type": "code",
   "execution_count": 14,
   "metadata": {},
   "outputs": [],
   "source": [
    "temp = get_existing_user(db = db , user_create=temp)"
   ]
  },
  {
   "cell_type": "code",
   "execution_count": 16,
   "metadata": {},
   "outputs": [
    {
     "data": {
      "text/plain": [
       "<models.User at 0x7f2ed6b2dca0>"
      ]
     },
     "execution_count": 16,
     "metadata": {},
     "output_type": "execute_result"
    }
   ],
   "source": [
    "temp"
   ]
  },
  {
   "cell_type": "code",
   "execution_count": 3,
   "metadata": {},
   "outputs": [
    {
     "name": "stdout",
     "output_type": "stream",
     "text": [
      "Fail to read frame!\n"
     ]
    },
    {
     "name": "stderr",
     "output_type": "stream",
     "text": [
      "[ WARN:0@272.023] global /opt/conda/conda-bld/opencv-suite_1664548337286/work/modules/videoio/src/cap_gstreamer.cpp (862) isPipelinePlaying OpenCV | GStreamer warning: GStreamer: pipeline have not been created\n",
      "[ WARN:0@272.023] global /opt/conda/conda-bld/opencv-suite_1664548337286/work/modules/videoio/src/cap_v4l.cpp (902) open VIDEOIO(V4L2:/dev/video0): can't open camera by index\n",
      "[ERROR:0@272.164] global /opt/conda/conda-bld/opencv-suite_1664548337286/work/modules/videoio/src/cap.cpp (595) open VIDEOIO(GSTREAMER): raised OpenCV exception:\n",
      "\n",
      "OpenCV(4.6.0) /opt/conda/conda-bld/opencv-suite_1664548337286/work/modules/videoio/src/cap_gstreamer.cpp:1937: error: (-215:Assertion failed) frameSize.width > 0 && frameSize.height > 0 in function 'open'\n",
      "\n",
      "\n",
      "[ERROR:0@272.166] global /opt/conda/conda-bld/opencv-suite_1664548337286/work/modules/videoio/src/cap.cpp (595) open VIDEOIO(CV_IMAGES): raised OpenCV exception:\n",
      "\n",
      "OpenCV(4.6.0) /opt/conda/conda-bld/opencv-suite_1664548337286/work/modules/videoio/src/cap_images.cpp:253: error: (-5:Bad argument) CAP_IMAGES: can't find starting number (in the name of file): result/webcam.avi in function 'icvExtractPattern'\n",
      "\n",
      "\n"
     ]
    }
   ],
   "source": [
    "import os\n",
    "import cv2\n",
    "\n",
    "if not os.path.exists('result') :\n",
    "    os.makedirs('result')\n",
    "\n",
    "cap = cv2.VideoCapture(0)\n",
    "\n",
    "width = int(cap.get(3)) # 가로 길이 가져오기 \n",
    "height = int(cap.get(4)) # 세로 길이 가져오기\n",
    "fps = 30\n",
    "cnt = 1\n",
    "\n",
    "fcc = cv2.VideoWriter_fourcc('M', 'J', 'P', 'G')\n",
    "out = cv2.VideoWriter('result/webcam.avi', fcc, fps, (width, height))\n",
    "\n",
    "while (True) :\n",
    "    k = cv2.waitKey(1) & 0xFF\n",
    "    ret, frame = cap.read()\n",
    "    if ret :\n",
    "        out.write(frame)\n",
    "        cv2.imshow('frame', frame)\n",
    "        sleep(5)\n",
    "        if k == ord('s') :\n",
    "            print(\"Screenshot saved...\")\n",
    "            cv2.imwrite('result/screenshot{}.png'.format(cnt), frame, params=[cv2.IMWRITE_PNG_COMPRESSION,0])\n",
    "            cnt += 1\n",
    "        elif k == ord('q') : break\n",
    "    else :\n",
    "        print(\"Fail to read frame!\")\n",
    "        break\n",
    "\n",
    "cap.release()\n",
    "out.release()\n",
    "cv2.destroyAllWindows()"
   ]
  },
  {
   "cell_type": "code",
   "execution_count": 17,
   "metadata": {},
   "outputs": [
    {
     "name": "stdout",
     "output_type": "stream",
     "text": [
      "Timer\n"
     ]
    },
    {
     "name": "stdout",
     "output_type": "stream",
     "text": [
      "Timer\n",
      "Timer\n",
      "Timer\n",
      "Timer\n",
      "Timer\n"
     ]
    }
   ],
   "source": [
    "import threading\n",
    " \n",
    " \n",
    "def startTimer():\n",
    "    print(\"Timer\")\n",
    "    timer = threading.Timer(5, startTimer)\n",
    "    timer.start()\n",
    " \n",
    "if __name__ == '__main__':\n",
    "    startTimer()"
   ]
  },
  {
   "cell_type": "code",
   "execution_count": null,
   "metadata": {},
   "outputs": [],
   "source": []
  }
 ],
 "metadata": {
  "kernelspec": {
   "display_name": "ocr",
   "language": "python",
   "name": "python3"
  },
  "language_info": {
   "codemirror_mode": {
    "name": "ipython",
    "version": 3
   },
   "file_extension": ".py",
   "mimetype": "text/x-python",
   "name": "python",
   "nbconvert_exporter": "python",
   "pygments_lexer": "ipython3",
   "version": "3.8.16 (default, Jan 17 2023, 23:13:24) \n[GCC 11.2.0]"
  },
  "orig_nbformat": 4,
  "vscode": {
   "interpreter": {
    "hash": "ac39e93a7cef470c858cd3420559cf6cee6d522605b0cfb2ac8c3f0481f1aef1"
   }
  }
 },
 "nbformat": 4,
 "nbformat_minor": 2
}
